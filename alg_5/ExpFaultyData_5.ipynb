{
 "cells": [
  {
   "cell_type": "markdown",
   "metadata": {},
   "source": [
    "# Algorithm 5 (Exploration by Confidence)"
   ]
  },
  {
   "cell_type": "code",
   "execution_count": 201,
   "metadata": {},
   "outputs": [],
   "source": [
    "import pandas as pd\n",
    "import math "
   ]
  },
  {
   "cell_type": "code",
   "execution_count": 202,
   "metadata": {},
   "outputs": [],
   "source": [
    "# Достоверность\n",
    "c = 0.5\n",
    "context_df_expert = pd.read_csv('example_expert.csv',sep=';')\n",
    "context_expert = (context_df_expert.values.tolist(),context_df_expert.shape)"
   ]
  },
  {
   "cell_type": "code",
   "execution_count": 203,
   "metadata": {},
   "outputs": [],
   "source": [
    "context_df = pd.read_csv('example.csv',sep=';')"
   ]
  },
  {
   "cell_type": "code",
   "execution_count": 204,
   "metadata": {},
   "outputs": [
    {
     "data": {
      "text/html": [
       "<div>\n",
       "<style scoped>\n",
       "    .dataframe tbody tr th:only-of-type {\n",
       "        vertical-align: middle;\n",
       "    }\n",
       "\n",
       "    .dataframe tbody tr th {\n",
       "        vertical-align: top;\n",
       "    }\n",
       "\n",
       "    .dataframe thead th {\n",
       "        text-align: right;\n",
       "    }\n",
       "</style>\n",
       "<table border=\"1\" class=\"dataframe\">\n",
       "  <thead>\n",
       "    <tr style=\"text-align: right;\">\n",
       "      <th></th>\n",
       "      <th>hair</th>\n",
       "      <th>feathers</th>\n",
       "      <th>eggs</th>\n",
       "      <th>milk</th>\n",
       "      <th>predator</th>\n",
       "      <th>breathes</th>\n",
       "    </tr>\n",
       "  </thead>\n",
       "  <tbody>\n",
       "    <tr>\n",
       "      <th>0</th>\n",
       "      <td>0</td>\n",
       "      <td>0</td>\n",
       "      <td>1</td>\n",
       "      <td>0</td>\n",
       "      <td>1</td>\n",
       "      <td>0</td>\n",
       "    </tr>\n",
       "    <tr>\n",
       "      <th>1</th>\n",
       "      <td>1</td>\n",
       "      <td>0</td>\n",
       "      <td>0</td>\n",
       "      <td>1</td>\n",
       "      <td>1</td>\n",
       "      <td>0</td>\n",
       "    </tr>\n",
       "    <tr>\n",
       "      <th>2</th>\n",
       "      <td>1</td>\n",
       "      <td>0</td>\n",
       "      <td>0</td>\n",
       "      <td>1</td>\n",
       "      <td>1</td>\n",
       "      <td>1</td>\n",
       "    </tr>\n",
       "    <tr>\n",
       "      <th>3</th>\n",
       "      <td>1</td>\n",
       "      <td>0</td>\n",
       "      <td>0</td>\n",
       "      <td>1</td>\n",
       "      <td>0</td>\n",
       "      <td>1</td>\n",
       "    </tr>\n",
       "    <tr>\n",
       "      <th>4</th>\n",
       "      <td>1</td>\n",
       "      <td>0</td>\n",
       "      <td>0</td>\n",
       "      <td>1</td>\n",
       "      <td>0</td>\n",
       "      <td>1</td>\n",
       "    </tr>\n",
       "    <tr>\n",
       "      <th>5</th>\n",
       "      <td>0</td>\n",
       "      <td>0</td>\n",
       "      <td>1</td>\n",
       "      <td>0</td>\n",
       "      <td>0</td>\n",
       "      <td>0</td>\n",
       "    </tr>\n",
       "    <tr>\n",
       "      <th>6</th>\n",
       "      <td>0</td>\n",
       "      <td>0</td>\n",
       "      <td>1</td>\n",
       "      <td>0</td>\n",
       "      <td>1</td>\n",
       "      <td>0</td>\n",
       "    </tr>\n",
       "    <tr>\n",
       "      <th>7</th>\n",
       "      <td>1</td>\n",
       "      <td>0</td>\n",
       "      <td>0</td>\n",
       "      <td>1</td>\n",
       "      <td>0</td>\n",
       "      <td>1</td>\n",
       "    </tr>\n",
       "    <tr>\n",
       "      <th>8</th>\n",
       "      <td>1</td>\n",
       "      <td>0</td>\n",
       "      <td>0</td>\n",
       "      <td>1</td>\n",
       "      <td>1</td>\n",
       "      <td>1</td>\n",
       "    </tr>\n",
       "    <tr>\n",
       "      <th>9</th>\n",
       "      <td>0</td>\n",
       "      <td>1</td>\n",
       "      <td>1</td>\n",
       "      <td>0</td>\n",
       "      <td>0</td>\n",
       "      <td>1</td>\n",
       "    </tr>\n",
       "    <tr>\n",
       "      <th>10</th>\n",
       "      <td>0</td>\n",
       "      <td>1</td>\n",
       "      <td>1</td>\n",
       "      <td>0</td>\n",
       "      <td>1</td>\n",
       "      <td>1</td>\n",
       "    </tr>\n",
       "  </tbody>\n",
       "</table>\n",
       "</div>"
      ],
      "text/plain": [
       "    hair  feathers  eggs  milk  predator  breathes\n",
       "0      0         0     1     0         1         0\n",
       "1      1         0     0     1         1         0\n",
       "2      1         0     0     1         1         1\n",
       "3      1         0     0     1         0         1\n",
       "4      1         0     0     1         0         1\n",
       "5      0         0     1     0         0         0\n",
       "6      0         0     1     0         1         0\n",
       "7      1         0     0     1         0         1\n",
       "8      1         0     0     1         1         1\n",
       "9      0         1     1     0         0         1\n",
       "10     0         1     1     0         1         1"
      ]
     },
     "execution_count": 204,
     "metadata": {},
     "output_type": "execute_result"
    }
   ],
   "source": [
    "context_df"
   ]
  },
  {
   "cell_type": "code",
   "execution_count": 205,
   "metadata": {},
   "outputs": [
    {
     "data": {
      "text/plain": [
       "11"
      ]
     },
     "execution_count": 205,
     "metadata": {},
     "output_type": "execute_result"
    }
   ],
   "source": [
    "context = (context_df.values.tolist(),context_df.shape)\n",
    "context[1][0]"
   ]
  },
  {
   "cell_type": "code",
   "execution_count": 206,
   "metadata": {},
   "outputs": [
    {
     "ename": "TypeError",
     "evalue": "'tuple' object does not support item assignment",
     "output_type": "error",
     "traceback": [
      "\u001b[1;31m---------------------------------------------------------------------------\u001b[0m",
      "\u001b[1;31mTypeError\u001b[0m                                 Traceback (most recent call last)",
      "Cell \u001b[1;32mIn[206], line 2\u001b[0m\n\u001b[0;32m      1\u001b[0m context_Li \u001b[38;5;241m=\u001b[39m ([],(\u001b[38;5;241m0\u001b[39m,\u001b[38;5;241m6\u001b[39m))\n\u001b[1;32m----> 2\u001b[0m \u001b[43mcontext_Li\u001b[49m\u001b[43m[\u001b[49m\u001b[38;5;241;43m1\u001b[39;49m\u001b[43m]\u001b[49m \u001b[38;5;241m=\u001b[39m (context_Li[\u001b[38;5;241m1\u001b[39m][\u001b[38;5;241m0\u001b[39m], context_Li[\u001b[38;5;241m1\u001b[39m][\u001b[38;5;241m1\u001b[39m])\n",
      "\u001b[1;31mTypeError\u001b[0m: 'tuple' object does not support item assignment"
     ]
    }
   ],
   "source": [
    "context_Li = ([],(0,6))\n",
    "context_Li[1] = (context_Li[1][0], context_Li[1][1])"
   ]
  },
  {
   "cell_type": "code",
   "execution_count": 127,
   "metadata": {},
   "outputs": [
    {
     "data": {
      "text/plain": [
       "([], (0, 6))"
      ]
     },
     "execution_count": 127,
     "metadata": {},
     "output_type": "execute_result"
    }
   ],
   "source": [
    "context_Li"
   ]
  },
  {
   "cell_type": "code",
   "execution_count": 102,
   "metadata": {},
   "outputs": [],
   "source": [
    "class Implication:\n",
    "    def __init__(self,p,c):\n",
    "        self.premise = p.copy()\n",
    "        self.consequent = c.copy()\n",
    "        pass\n",
    "    def __str__(self):\n",
    "        return str(self.premise)+'->'+str(self.consequent)\n",
    "    def __repr__(self):\n",
    "        return str(self.premise)+'->'+str(self.consequent)\n",
    "    def print_for_context(self, cont):\n",
    "        old_values = range(0, len(cont))\n",
    "        p_new = list(map(dict(zip(old_values, cont)).get, self.premise))\n",
    "        c_new = list(map(dict(zip(old_values, cont)).get, self.consequent))\n",
    "        return str(p_new)+'->'+str(c_new)"
   ]
  },
  {
   "cell_type": "code",
   "execution_count": 103,
   "metadata": {},
   "outputs": [],
   "source": [
    "def Galois(X,context,t):\n",
    "    if len(X)==0:\n",
    "        if t=='ObjectsToAttributes': return set(range(0, context[1][1]))\n",
    "        if t=='AttributesToObjects': return set(range(0, context[1][0]))\n",
    "    if t=='ObjectsToAttributes':\n",
    "        context_temp=[context[0][x] for x in list(X)]\n",
    "    if t=='AttributesToObjects':\n",
    "        transposed=list(zip(*context[0]))\n",
    "        context_temp=[transposed[x] for x in list(X)]\n",
    "    at=[sum(i) for i in zip(*context_temp)]\n",
    "    attributes=set()\n",
    "    for i in range(0,len(at)):\n",
    "        if at[i]==len(X):   \n",
    "            attributes.update(set([i]))\n",
    "    return attributes"
   ]
  },
  {
   "cell_type": "code",
   "execution_count": 104,
   "metadata": {},
   "outputs": [
    {
     "data": {
      "text/plain": [
       "{5}"
      ]
     },
     "execution_count": 104,
     "metadata": {},
     "output_type": "execute_result"
    }
   ],
   "source": [
    "Galois({1, 2, 3, 4, 7, 8, 9, 10},context,'ObjectsToAttributes')"
   ]
  },
  {
   "cell_type": "code",
   "execution_count": 105,
   "metadata": {},
   "outputs": [
    {
     "data": {
      "text/plain": [
       "{0, 3, 5}"
      ]
     },
     "execution_count": 105,
     "metadata": {},
     "output_type": "execute_result"
    }
   ],
   "source": [
    "A = {3}\n",
    "A = Galois(A,context,'AttributesToObjects')\n",
    "A = Galois(A,context,'ObjectsToAttributes')\n",
    "A"
   ]
  },
  {
   "cell_type": "code",
   "execution_count": 106,
   "metadata": {},
   "outputs": [],
   "source": [
    "def ClosureOnImp(A,L):\n",
    "    Li=L.copy()\n",
    "    while True:\n",
    "        #print('Closure Start')\n",
    "        stable=True   \n",
    "        Lj=Li.copy()\n",
    "        for i in Lj:\n",
    "            if (i.premise.issubset(A)):\n",
    "                A.update(i.consequent)\n",
    "                stable=False\n",
    "                Li.difference_update(set([i]))\n",
    "        if stable==True:\n",
    "            break\n",
    "    return A"
   ]
  },
  {
   "cell_type": "code",
   "execution_count": 107,
   "metadata": {},
   "outputs": [],
   "source": [
    "A = {5}\n",
    "L = {Implication({0}, {3}), #hair -> milk\n",
    "              Implication({0}, {4}), #hair -> predator\n",
    "              Implication({0}, {5}), #hair -> breathes\n",
    "              Implication({1}, {2}), #feathers -> eggs\n",
    "              Implication({1}, {4}), #feathers -> predator\n",
    "              Implication({1}, {5}), #feathers -> breathes\n",
    "              Implication({2}, {4}), #eggs -> predator\n",
    "              Implication({3}, {0}), #milk -> hair\n",
    "              Implication({3}, {4}), #milk -> predator\n",
    "              Implication({3}, {5}), #milk -> breathes\n",
    "              Implication({4}, {0}), #predator -> hair\n",
    "              Implication({4}, {2}), #predator -> eggs\n",
    "              Implication({4}, {3}), #predator -> milk\n",
    "              Implication({4}, {5}), #predator -> breathes\n",
    "              Implication({5}, {0}), #breathes -> hair\n",
    "              Implication({5}, {3}), #breathes -> milk\n",
    "              Implication({5}, {4}), #breathes -> predator\n",
    "              }\n"
   ]
  },
  {
   "cell_type": "code",
   "execution_count": 108,
   "metadata": {},
   "outputs": [
    {
     "data": {
      "text/plain": [
       "{0, 2, 3, 4, 5}"
      ]
     },
     "execution_count": 108,
     "metadata": {},
     "output_type": "execute_result"
    }
   ],
   "source": [
    "ClosureOnImp(A,L)"
   ]
  },
  {
   "cell_type": "code",
   "execution_count": 109,
   "metadata": {},
   "outputs": [],
   "source": [
    "def ClosureOnContext(A,context_):\n",
    "    A = Galois(A,context_,'AttributesToObjects')\n",
    "    A = Galois(A,context_,'ObjectsToAttributes')\n",
    "    return A"
   ]
  },
  {
   "cell_type": "code",
   "execution_count": 141,
   "metadata": {},
   "outputs": [],
   "source": [
    "def SmallestSet (A,M,Ki,context_KLi):\n",
    "    for m in list(reversed(M)):\n",
    "        if m in A:\n",
    "            A.difference_update(set([m]))\n",
    "        else:           \n",
    "            A_temp=A.copy()\n",
    "            A_temp.update(set([m]))\n",
    "            B=ClosureOnImp(A_temp,Ki)\n",
    "            B_diff=B.copy()\n",
    "            B_diff.difference_update(A)  \n",
    "            B_L=B.copy()\n",
    "            if all(i>=m for i in B_diff) and (B != ClosureOnContext(B_L, context_KLi)):\n",
    "                return B\n",
    "    return -1"
   ]
  },
  {
   "cell_type": "code",
   "execution_count": 142,
   "metadata": {},
   "outputs": [],
   "source": [
    "A = set()\n",
    "context_K = (context_df.values.tolist(),context_df.shape)\n",
    "M=list(range(0,context_K[1][1]))\n",
    "Th_c_K = {Implication({0}, {3}), #hair -> milk\n",
    "              Implication({0}, {4}), #hair -> predator\n",
    "              Implication({0}, {5}), #hair -> breathes\n",
    "            #   Implication({0}, {6}), #hair -> mammal\n",
    "              Implication({1}, {2}), #feathers -> eggs\n",
    "              Implication({1}, {4}), #feathers -> predator\n",
    "              Implication({1}, {5}), #feathers -> breathes\n",
    "            #   Implication({1}, {8}), #feathers -> bird\n",
    "              Implication({2}, {4}), #eggs -> predator\n",
    "            #   Implication({2}, {7}), #eggs -> fish\n",
    "              Implication({3}, {0}), #milk -> hair\n",
    "              Implication({3}, {4}), #milk -> predator\n",
    "              Implication({3}, {5}), #milk -> breathes\n",
    "            #   Implication({3}, {0}), #milk -> mammal\n",
    "              Implication({4}, {0}), #predator -> hair\n",
    "              Implication({4}, {2}), #predator -> eggs\n",
    "              Implication({4}, {3}), #predator -> milk\n",
    "              Implication({4}, {5}), #predator -> breathes\n",
    "            #   Implication({4}, {6}), #predator -> mammal\n",
    "              Implication({5}, {0}), #breathes -> hair\n",
    "              Implication({5}, {3}), #breathes -> milk\n",
    "              Implication({5}, {4}), #breathes -> predator\n",
    "            #   Implication({5}, {6}), #breathes -> mammal\n",
    "            #   Implication({6}, {0}), #mammal -> hair\n",
    "            #   Implication({6}, {3}), #mammal -> milk\n",
    "            #   Implication({6}, {4}), #mammal -> predator\n",
    "            #   Implication({6}, {5}), #mammal -> breathes\n",
    "            #   Implication({7}, {2}), #fish -> eggs\n",
    "            #   Implication({7}, {4}), #fish -> predator\n",
    "            #   Implication({8}, {1}), #bird -> feathers\n",
    "            #   Implication({8}, {2}), #bird -> eggs\n",
    "            #   Implication({8}, {4}), #bird -> predator\n",
    "            #   Implication({8}, {5}), #bird -> breathes\n",
    "              }\n",
    "Ki = {Implication({1}, {2})}"
   ]
  },
  {
   "cell_type": "code",
   "execution_count": 143,
   "metadata": {},
   "outputs": [
    {
     "data": {
      "text/plain": [
       "{3}"
      ]
     },
     "execution_count": 143,
     "metadata": {},
     "output_type": "execute_result"
    }
   ],
   "source": [
    "context_KLi = context\n",
    "SmallestSet (A,M,Ki,context_K)"
   ]
  },
  {
   "cell_type": "code",
   "execution_count": 113,
   "metadata": {},
   "outputs": [],
   "source": [
    "def FindConfidence(imp, context):\n",
    "    galois_PC = Galois(set.union(imp.premise, imp.consequent), context, 'AttributesToObjects')\n",
    "    galois_C = Galois(imp.consequent, context, 'AttributesToObjects')\n",
    "    return len(galois_PC)/len(galois_C)"
   ]
  },
  {
   "cell_type": "code",
   "execution_count": 114,
   "metadata": {},
   "outputs": [],
   "source": [
    "def SmallestIntent (P, M, context_KLi, context_Li, Ki, context_K, m):\n",
    "    for m in list(reversed(M)):\n",
    "        if m in P:\n",
    "            P.difference_update(set([m]))\n",
    "        else:\n",
    "            P_temp=P.copy()\n",
    "            P_temp.update(set([m]))\n",
    "            B=ClosureOnContext(P_temp,context_KLi)\n",
    "            B_diff=B.copy()\n",
    "            B_diff.difference_update(P)  \n",
    "\n",
    "            B_L=B.copy()\n",
    "            if (context_Li == []):\n",
    "                B_L = set()\n",
    "            else:\n",
    "                ClosureOnContext(B_L, context_Li)\n",
    "\n",
    "            B_K = B.copy()\n",
    "            ClosureOnImp(B_K, Ki)\n",
    "\n",
    "            B_L_K_diff = B_L.difference(B_K)\n",
    "\n",
    "            exist = False\n",
    "\n",
    "            for m in B_L_K_diff:\n",
    "                if FindConfidence(Implication(B, {m}), context_K) >= c :\n",
    "                    exist = True\n",
    "                    break\n",
    "\n",
    "            if all(i>=m for i in B_diff) and exist:\n",
    "                return B\n",
    "    return -1"
   ]
  },
  {
   "cell_type": "code",
   "execution_count": 175,
   "metadata": {},
   "outputs": [
    {
     "data": {
      "text/plain": [
       "[[[0, 0, 1, 0, 1, 0],\n",
       "  [1, 0, 0, 1, 1, 1],\n",
       "  [1, 0, 0, 1, 1, 1],\n",
       "  [1, 0, 0, 1, 0, 1],\n",
       "  [1, 0, 0, 1, 0, 1],\n",
       "  [0, 0, 1, 0, 0, 0],\n",
       "  [0, 0, 1, 0, 1, 0],\n",
       "  [1, 0, 0, 1, 0, 1],\n",
       "  [1, 0, 0, 1, 1, 1],\n",
       "  [0, 1, 1, 0, 0, 1],\n",
       "  [0, 1, 1, 0, 1, 1]],\n",
       " (11, 6)]"
      ]
     },
     "execution_count": 175,
     "metadata": {},
     "output_type": "execute_result"
    }
   ],
   "source": [
    "context_K = [context_df.values.tolist(),context_df.shape]\n",
    "context_K"
   ]
  },
  {
   "cell_type": "code",
   "execution_count": 182,
   "metadata": {},
   "outputs": [],
   "source": [
    "context_Li = [[[1, 0, 0, 1, 0, 1]],(1,6)]"
   ]
  },
  {
   "cell_type": "code",
   "execution_count": 183,
   "metadata": {},
   "outputs": [],
   "source": [
    "import copy\n",
    "context_KLi = copy.deepcopy(context_K)\n",
    "context_KLi[0].append(context_Li[0][0])"
   ]
  },
  {
   "cell_type": "code",
   "execution_count": 189,
   "metadata": {},
   "outputs": [
    {
     "data": {
      "text/plain": [
       "[0, 0, 1, 0, 1, 0]"
      ]
     },
     "execution_count": 189,
     "metadata": {},
     "output_type": "execute_result"
    }
   ],
   "source": [
    "context_KLi[0][0]"
   ]
  },
  {
   "cell_type": "code",
   "execution_count": 185,
   "metadata": {},
   "outputs": [
    {
     "data": {
      "text/plain": [
       "[[[1, 0, 0, 1, 0, 1]], (1, 6)]"
      ]
     },
     "execution_count": 185,
     "metadata": {},
     "output_type": "execute_result"
    }
   ],
   "source": [
    "context_Li"
   ]
  },
  {
   "cell_type": "code",
   "execution_count": 186,
   "metadata": {},
   "outputs": [
    {
     "data": {
      "text/plain": [
       "{{0}->{3}}"
      ]
     },
     "execution_count": 186,
     "metadata": {},
     "output_type": "execute_result"
    }
   ],
   "source": [
    "Ki"
   ]
  },
  {
   "cell_type": "code",
   "execution_count": 187,
   "metadata": {},
   "outputs": [
    {
     "data": {
      "text/plain": [
       "[[[0, 0, 1, 0, 1, 0],\n",
       "  [1, 0, 0, 1, 1, 1],\n",
       "  [1, 0, 0, 1, 1, 1],\n",
       "  [1, 0, 0, 1, 0, 1],\n",
       "  [1, 0, 0, 1, 0, 1],\n",
       "  [0, 0, 1, 0, 0, 0],\n",
       "  [0, 0, 1, 0, 1, 0],\n",
       "  [1, 0, 0, 1, 0, 1],\n",
       "  [1, 0, 0, 1, 1, 1],\n",
       "  [0, 1, 1, 0, 0, 1],\n",
       "  [0, 1, 1, 0, 1, 1]],\n",
       " (11, 6)]"
      ]
     },
     "execution_count": 187,
     "metadata": {},
     "output_type": "execute_result"
    }
   ],
   "source": [
    "context_K"
   ]
  },
  {
   "cell_type": "code",
   "execution_count": 207,
   "metadata": {},
   "outputs": [
    {
     "data": {
      "text/plain": [
       "-1"
      ]
     },
     "execution_count": 207,
     "metadata": {},
     "output_type": "execute_result"
    }
   ],
   "source": [
    "context_Li = ([[1, 0, 0, 1, 1, 1]],(1,6))\n",
    "SmallestIntent ({3}, M, context_KLi, context_Li, Ki, context_K, -1)"
   ]
  },
  {
   "cell_type": "code",
   "execution_count": 115,
   "metadata": {},
   "outputs": [],
   "source": [
    "def expert_p(imp, context):\n",
    "    AI =  Galois(imp.premise, context, 'AttributesToObjects')\n",
    "    BI = Galois(imp.consequent, context, 'AttributesToObjects')\n",
    "    # Является ли AI подмножеством BI\n",
    "    if (AI.issubset(BI)) :\n",
    "        return False\n",
    "    else :\n",
    "        # Контрпример\n",
    "        counterexample = [0 for i in range(0, len(M))]\n",
    "        for i in imp.premise :\n",
    "            counterexample[i] = 1\n",
    "        return counterexample"
   ]
  },
  {
   "cell_type": "code",
   "execution_count": 116,
   "metadata": {},
   "outputs": [],
   "source": [
    "def col_num_to_name(col_nums, columns):\n",
    "    old_values = range(0, len(columns))\n",
    "    new = list(map(dict(zip(old_values, columns)).get, col_nums))\n",
    "    return new\n",
    "\n",
    "def example_to_column_names(example, columns):\n",
    "    new = [columns[i] for i in range(0, len(example)) if example[i]==1]\n",
    "    return new\n",
    "\n",
    "def example_to_column_nums(example):\n",
    "    new = [i for i in range(0, len(example)) if example[i]==1]\n",
    "    return new"
   ]
  },
  {
   "cell_type": "code",
   "execution_count": 117,
   "metadata": {},
   "outputs": [],
   "source": [
    "def DeleteFalseImplications(L, C) :\n",
    "    ex = example_to_column_nums(C)\n",
    "    L_updated = L.copy()\n",
    "    for i in L :\n",
    "        if not (not i.premise.issubset(ex) or i.consequent.issubset(ex)) :\n",
    "            L_updated.remove(i)\n",
    "    return L_updated"
   ]
  },
  {
   "cell_type": "code",
   "execution_count": 118,
   "metadata": {},
   "outputs": [],
   "source": [
    "def LecticalComparison(P1, P2):\n",
    "    i = 0\n",
    "    while (P1[i] == P2[i]):\n",
    "        i = i+1\n",
    "    if (P1[i] > P2[i]):\n",
    "        return True\n",
    "    else:\n",
    "        return False"
   ]
  },
  {
   "cell_type": "code",
   "execution_count": 119,
   "metadata": {},
   "outputs": [],
   "source": [
    "def ExploringFaultyData(K, Th_c_K, M, context_K, context_expert):\n",
    "    print('Значение M - ' + str(M))\n",
    "    print('Значение K - ' + str(K))\n",
    "    print('Значение Th_c_K - ' + str(Th_c_K))\n",
    "    # i\n",
    "    i = 0\n",
    "    Pi = ClosureOnImp(set(), K)\n",
    "    print('Значение Pi - ' + str(Pi))\n",
    "    Ki = K\n",
    "    Li = Th_c_K\n",
    "    context_Li = []\n",
    "    print('Контекст Li - ' + str(context_Li))\n",
    "\n",
    "    while (True):\n",
    "        # ii\n",
    "        context_KLi = context_K\n",
    "        for c in context_Li:\n",
    "            context_KLi[0].append(c)\n",
    "        m = -1\n",
    "        Pi_1 = SmallestIntent(Pi, M, context_KLi, context_Li, Ki, context_K, m)\n",
    "        Pi_2 = SmallestSet(Pi, M, Ki, context_KLi)\n",
    "\n",
    "        print('Pi_1 - ' + str(Pi_1))\n",
    "        print('Pi_2 - ' + str(Pi_2))\n",
    "\n",
    "        if Pi_1==-1 and Pi_2==-1:\n",
    "            break\n",
    "        if Pi_1==-1:\n",
    "            Pi = Pi_2\n",
    "        else:\n",
    "            if Pi_2==-1:\n",
    "                Pi = Pi_1\n",
    "            else:\n",
    "                if (LecticalComparison(Pi_1, Pi_2)):\n",
    "                    Pi = Pi_1\n",
    "                else:\n",
    "                    Pi = Pi_2\n",
    "        \n",
    "        # Выбор Q\n",
    "        if (Pi == Pi_1):\n",
    "            Qi = Pi_1.add(m)\n",
    "        else:\n",
    "            Qi = ClosureOnContext(Pi_2, context_KLi)\n",
    "        print('Выбранное Q - ' + str(Qi))\n",
    "\n",
    "        # Инициализация импликации\n",
    "        imp = Implication(Pi, Qi)\n",
    "        print('Есть ли контрпример для ' + imp.print_for_context(context_df.columns))\n",
    "        # Запрос к эксперту\n",
    "        counterexample = expert_p(imp)\n",
    "        print(counterexample)\n",
    "\n",
    "        # iv - v\n",
    "        if (counterexample) :\n",
    "            # Удаление импликаций, противоречащих контрпримеру\n",
    "            Li = DeleteFalseImplications(Li, counterexample)\n",
    "            # Добавлен контрпример\n",
    "            context_Li.append(counterexample)\n",
    "            print('Контекст Li - ' + str(context_Li))\n",
    "            print('Значение Li - ' + str(Li))\n",
    "        else :\n",
    "            Ki.add(imp)\n",
    "            print(Ki)\n",
    "        # vi\n",
    "        i = i+1\n",
    "    print(Ki)\n",
    "    print(Li)"
   ]
  },
  {
   "cell_type": "code",
   "execution_count": 120,
   "metadata": {},
   "outputs": [],
   "source": [
    "M=list(range(0,context[1][1]))\n",
    "Th_c_K = {Implication({0}, {2}), Implication({1}, {2}), Implication({2}, {3}), Implication({2}, {3}), Implication({2}, {4}), Implication({4}, {5}), Implication({5}, {4, 3, 2}), Implication({4}, {3}), Implication({4}, {2}),  Implication({3}, {2})}\n",
    "K = {Implication({4}, {2})}"
   ]
  },
  {
   "cell_type": "code",
   "execution_count": null,
   "metadata": {},
   "outputs": [
    {
     "name": "stdout",
     "output_type": "stream",
     "text": [
      "Значение M - [0, 1, 2, 3, 4, 5]\n",
      "Значение K - {{4}->{2}}\n",
      "Значение Th_c_K - {{4}->{5}, {2}->{3}, {5}->{2, 3, 4}, {4}->{2}, {3}->{2}, {1}->{2}, {0}->{2}, {4}->{3}, {2}->{3}, {2}->{4}}\n",
      "Значение Pi - set()\n",
      "Контекст Li - []\n",
      "Pi_1 - -1\n",
      "Pi_2 - {3}\n",
      "Выбранное Q - {0, 3, 5}\n",
      "Есть ли контрпример для ['milk']->['hair', 'milk', 'breathes']\n"
     ]
    },
    {
     "ename": "TypeError",
     "evalue": "expert_p() missing 1 required positional argument: 'context'",
     "output_type": "error",
     "traceback": [
      "\u001b[1;31m---------------------------------------------------------------------------\u001b[0m",
      "\u001b[1;31mTypeError\u001b[0m                                 Traceback (most recent call last)",
      "Cell \u001b[1;32mIn[121], line 1\u001b[0m\n\u001b[1;32m----> 1\u001b[0m \u001b[43mExploringFaultyData\u001b[49m\u001b[43m(\u001b[49m\u001b[43mK\u001b[49m\u001b[43m,\u001b[49m\u001b[43m \u001b[49m\u001b[43mTh_c_K\u001b[49m\u001b[43m,\u001b[49m\u001b[43m \u001b[49m\u001b[43mM\u001b[49m\u001b[43m,\u001b[49m\u001b[43m \u001b[49m\u001b[43mcontext\u001b[49m\u001b[43m,\u001b[49m\u001b[43m \u001b[49m\u001b[43mcontext_expert\u001b[49m\u001b[43m)\u001b[49m\n",
      "Cell \u001b[1;32mIn[119], line 50\u001b[0m, in \u001b[0;36mExploringFaultyData\u001b[1;34m(K, Th_c_K, M, context_K, context_expert)\u001b[0m\n\u001b[0;32m     48\u001b[0m \u001b[38;5;28mprint\u001b[39m(\u001b[38;5;124m'\u001b[39m\u001b[38;5;124mЕсть ли контрпример для \u001b[39m\u001b[38;5;124m'\u001b[39m \u001b[38;5;241m+\u001b[39m imp\u001b[38;5;241m.\u001b[39mprint_for_context(context_df\u001b[38;5;241m.\u001b[39mcolumns))\n\u001b[0;32m     49\u001b[0m \u001b[38;5;66;03m# Запрос к эксперту\u001b[39;00m\n\u001b[1;32m---> 50\u001b[0m counterexample \u001b[38;5;241m=\u001b[39m \u001b[43mexpert_p\u001b[49m\u001b[43m(\u001b[49m\u001b[43mimp\u001b[49m\u001b[43m)\u001b[49m\n\u001b[0;32m     51\u001b[0m \u001b[38;5;28mprint\u001b[39m(counterexample)\n\u001b[0;32m     53\u001b[0m \u001b[38;5;66;03m# iv - v\u001b[39;00m\n",
      "\u001b[1;31mTypeError\u001b[0m: expert_p() missing 1 required positional argument: 'context'"
     ]
    }
   ],
   "source": [
    "ExploringFaultyData(K, Th_c_K, M, context, context_expert)"
   ]
  }
 ],
 "metadata": {
  "kernelspec": {
   "display_name": "Python 3",
   "language": "python",
   "name": "python3"
  },
  "language_info": {
   "codemirror_mode": {
    "name": "ipython",
    "version": 3
   },
   "file_extension": ".py",
   "mimetype": "text/x-python",
   "name": "python",
   "nbconvert_exporter": "python",
   "pygments_lexer": "ipython3",
   "version": "3.13.0"
  }
 },
 "nbformat": 4,
 "nbformat_minor": 2
}
