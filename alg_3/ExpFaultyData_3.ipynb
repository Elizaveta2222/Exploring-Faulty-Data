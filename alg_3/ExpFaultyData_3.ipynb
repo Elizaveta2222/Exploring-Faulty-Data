{
 "cells": [
  {
   "cell_type": "markdown",
   "metadata": {},
   "source": [
    "# Algorithm 3 (General Attribute Exploration, Weaker Version)"
   ]
  },
  {
   "cell_type": "code",
   "execution_count": null,
   "metadata": {},
   "outputs": [],
   "source": [
    "import pandas as pd\n",
    "import math "
   ]
  },
  {
   "cell_type": "code",
   "execution_count": 3,
   "metadata": {},
   "outputs": [],
   "source": [
    "context_df = pd.read_csv('example.csv',sep=';')"
   ]
  },
  {
   "cell_type": "code",
   "execution_count": 4,
   "metadata": {},
   "outputs": [],
   "source": [
    "context = (context_df.values.tolist(),context_df.shape)"
   ]
  },
  {
   "cell_type": "code",
   "execution_count": 5,
   "metadata": {},
   "outputs": [],
   "source": [
    "class Implication:\n",
    "    def __init__(self,p,c):\n",
    "        self.premise = p.copy()\n",
    "        self.consequent = c.copy()\n",
    "        pass\n",
    "    def __str__(self):\n",
    "        return str(self.premise)+'->'+str(self.consequent)\n",
    "    def __repr__(self):\n",
    "        return str(self.premise)+'->'+str(self.consequent)\n",
    "    def print_for_context(self, cont):\n",
    "        old_values = range(0, len(cont))\n",
    "        p_new = list(map(dict(zip(old_values, cont)).get, self.premise))\n",
    "        c_new = list(map(dict(zip(old_values, cont)).get, self.consequent))\n",
    "        return str(p_new)+'->'+str(c_new)"
   ]
  },
  {
   "cell_type": "code",
   "execution_count": 6,
   "metadata": {},
   "outputs": [],
   "source": [
    "def Galois(X,context,t):\n",
    "    if len(X)==0:\n",
    "        if t=='ObjectsToAttributes': return set(range(0, context[1][1]))\n",
    "        if t=='AttributesToObjects': return set(range(0, context[1][0]))\n",
    "    if t=='ObjectsToAttributes':\n",
    "        context_temp=[context[0][x] for x in list(X)]\n",
    "    if t=='AttributesToObjects':\n",
    "        transposed=list(zip(*context[0]))\n",
    "        context_temp=[transposed[x] for x in list(X)]\n",
    "    at=[sum(i) for i in zip(*context_temp)]\n",
    "    attributes=set()\n",
    "    for i in range(0,len(at)):\n",
    "        if at[i]==len(X):   \n",
    "            attributes.update(set([i]))\n",
    "    return attributes"
   ]
  },
  {
   "cell_type": "code",
   "execution_count": 7,
   "metadata": {},
   "outputs": [],
   "source": [
    "def Closure(A,L):\n",
    "    Li=L.copy()\n",
    "    while True:\n",
    "        #print('Closure Start')\n",
    "        stable=True   \n",
    "        Lj=Li.copy()\n",
    "        for i in Lj:\n",
    "            if (i.premise.issubset(A)):\n",
    "                A.update(i.consequent)\n",
    "                stable=False\n",
    "                Li.difference_update(set([i]))\n",
    "        if stable==True:\n",
    "            break\n",
    "    return A"
   ]
  },
  {
   "cell_type": "code",
   "execution_count": 8,
   "metadata": {},
   "outputs": [],
   "source": [
    "def NextClosure(A,M,K,L):\n",
    "    for m in list(reversed(M)):\n",
    "        if m in A:\n",
    "            A.difference_update(set([m]))\n",
    "        else:           \n",
    "            A_temp=A.copy()\n",
    "            A_temp.update(set([m]))\n",
    "            B=Closure(A_temp,K)\n",
    "            B_diff=B.copy()\n",
    "            B_diff.difference_update(A)  \n",
    "            B_L=B.copy()\n",
    "            if all(i>=m for i in B_diff) and (B != Closure(B_L, L)):\n",
    "                return B\n",
    "    return -1"
   ]
  },
  {
   "cell_type": "code",
   "execution_count": 9,
   "metadata": {},
   "outputs": [],
   "source": [
    "def expert_p(imp):\n",
    "    AI =  Galois(imp.premise, context, 'AttributesToObjects')\n",
    "    BI = Galois(imp.consequent, context, 'AttributesToObjects')\n",
    "    # Является ли AI подмножеством BI\n",
    "    if (AI.issubset(BI)) :\n",
    "        return False\n",
    "    else :\n",
    "        # Контрпример\n",
    "        counterexample = [0 for i in range(0, len(M))]\n",
    "        for i in imp.premise :\n",
    "            counterexample[i] = 1\n",
    "        return counterexample"
   ]
  },
  {
   "cell_type": "code",
   "execution_count": 10,
   "metadata": {},
   "outputs": [],
   "source": [
    "def col_num_to_name(col_nums, columns):\n",
    "    old_values = range(0, len(columns))\n",
    "    new = list(map(dict(zip(old_values, columns)).get, col_nums))\n",
    "    return new\n",
    "\n",
    "def example_to_column_names(example, columns):\n",
    "    new = [columns[i] for i in range(0, len(example)) if example[i]==1]\n",
    "    return new\n",
    "\n",
    "def example_to_column_nums(example):\n",
    "    new = [i for i in range(0, len(example)) if example[i]==1]\n",
    "    return new"
   ]
  },
  {
   "cell_type": "code",
   "execution_count": 11,
   "metadata": {},
   "outputs": [],
   "source": [
    "def ChooseQ(M, Pi_next, L, Ki) :\n",
    "    Q = Pi_next.copy()\n",
    "    return Closure(Q, L)  "
   ]
  },
  {
   "cell_type": "code",
   "execution_count": 12,
   "metadata": {},
   "outputs": [],
   "source": [
    "def DeleteFalseImplications(L, C) :\n",
    "    ex = example_to_column_nums(C)\n",
    "    L_updated = L.copy()\n",
    "    for i in L :\n",
    "        if not (not i.premise.issubset(ex) or i.consequent.issubset(ex)) :\n",
    "            L_updated.remove(i)\n",
    "    return L_updated"
   ]
  },
  {
   "cell_type": "code",
   "execution_count": 13,
   "metadata": {},
   "outputs": [],
   "source": [
    "def ExploringFaultyData(K, L, M):\n",
    "    print('Значение M - ' + str(M))\n",
    "    print('Значение K - ' + str(K))\n",
    "    print('Значение L - ' + str(L))\n",
    "    # i\n",
    "    i = 0\n",
    "    Pi = Closure(set(), K)\n",
    "    print('Значение Pi - ' + str(Pi))\n",
    "    Ki = K\n",
    "    Li = L\n",
    "    context_Li = []\n",
    "    print('Контекст Li - ' + str(context_Li))\n",
    "\n",
    "    while (True):\n",
    "        # ii\n",
    "        Pi=NextClosure(Pi, M, Ki, Li)\n",
    "        print('NextClosure - ' + str(Pi))\n",
    "\n",
    "        if Pi==-1:\n",
    "            break\n",
    "        \n",
    "        # iii Выбор Q\n",
    "        Qi_next = ChooseQ(M, Pi, Li, Ki)\n",
    "        print('Выбранное Q - ' + str(Qi_next))\n",
    "\n",
    "        # Инициализация импликации\n",
    "        imp = Implication(Pi, Qi_next)\n",
    "        print('Есть ли контрпример для ' + imp.print_for_context(context_df.columns))\n",
    "        # Запрос к эксперту\n",
    "        counterexample = expert_p(imp)\n",
    "        print(counterexample)\n",
    "\n",
    "        # iv - v\n",
    "        if (counterexample) :\n",
    "            # Удаление импликаций, противоречащих контрпримеру\n",
    "            Li = DeleteFalseImplications(Li, counterexample)\n",
    "            # Добавлен контрпример\n",
    "            context_Li.append(counterexample)\n",
    "            print('Контекст Li - ' + str(context_Li))\n",
    "            print('Значение Li - ' + str(Li))\n",
    "        else :\n",
    "            Ki.add(imp)\n",
    "            print(Ki)\n",
    "        # vi\n",
    "        i = i+1\n",
    "    print(Ki)\n",
    "    print(Li)"
   ]
  },
  {
   "cell_type": "code",
   "execution_count": 14,
   "metadata": {},
   "outputs": [],
   "source": [
    "M=list(range(0,context[1][1]))\n",
    "L = {Implication({1}, {4}), Implication({5}, {2, 3, 4}), Implication({2}, {4}), Implication({4}, {2})}\n",
    "K = {Implication({4}, {2})}"
   ]
  },
  {
   "cell_type": "code",
   "execution_count": 15,
   "metadata": {},
   "outputs": [
    {
     "name": "stdout",
     "output_type": "stream",
     "text": [
      "Значение M - [0, 1, 2, 3, 4, 5]\n",
      "Значение K - {{4}->{2}}\n",
      "Значение L - {{5}->{2, 3, 4}, {4}->{2}, {2}->{4}, {1}->{4}}\n",
      "Значение Pi - set()\n",
      "Контекст Li - []\n",
      "NextClosure - {5}\n",
      "Выбранное Q - {2, 3, 4, 5}\n",
      "Есть ли контрпример для ['m6']->['m3', 'm4', 'm5', 'm6']\n",
      "False\n",
      "{{4}->{2}, {5}->{2, 3, 4, 5}}\n",
      "NextClosure - {2}\n",
      "Выбранное Q - {2, 4}\n",
      "Есть ли контрпример для ['m3']->['m3', 'm5']\n",
      "[0, 0, 1, 0, 0, 0]\n",
      "Контекст Li - [[0, 0, 1, 0, 0, 0]]\n",
      "Значение Li - {{5}->{2, 3, 4}, {4}->{2}, {1}->{4}}\n",
      "NextClosure - {1}\n",
      "Выбранное Q - {1, 2, 4}\n",
      "Есть ли контрпример для ['m2']->['m2', 'm3', 'm5']\n",
      "[0, 1, 0, 0, 0, 0]\n",
      "Контекст Li - [[0, 0, 1, 0, 0, 0], [0, 1, 0, 0, 0, 0]]\n",
      "Значение Li - {{5}->{2, 3, 4}, {4}->{2}}\n",
      "NextClosure - -1\n",
      "{{4}->{2}, {5}->{2, 3, 4, 5}}\n",
      "{{5}->{2, 3, 4}, {4}->{2}}\n"
     ]
    }
   ],
   "source": [
    "ExploringFaultyData(K, L, M)"
   ]
  }
 ],
 "metadata": {
  "kernelspec": {
   "display_name": "Python 3",
   "language": "python",
   "name": "python3"
  },
  "language_info": {
   "codemirror_mode": {
    "name": "ipython",
    "version": 3
   },
   "file_extension": ".py",
   "mimetype": "text/x-python",
   "name": "python",
   "nbconvert_exporter": "python",
   "pygments_lexer": "ipython3",
   "version": "3.13.0"
  }
 },
 "nbformat": 4,
 "nbformat_minor": 2
}
